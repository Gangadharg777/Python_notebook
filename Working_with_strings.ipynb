{
 "cells": [
  {
   "cell_type": "code",
   "execution_count": 1,
   "id": "59953018-316c-4d74-af12-3c841e5954e8",
   "metadata": {
    "collapsed": true,
    "jupyter": {
     "outputs_hidden": true
    }
   },
   "outputs": [
    {
     "data": {
      "text/plain": [
       "'hello'"
      ]
     },
     "execution_count": 1,
     "metadata": {},
     "output_type": "execute_result"
    }
   ],
   "source": [
    "\"hello\""
   ]
  },
  {
   "cell_type": "code",
   "execution_count": 2,
   "id": "469b007c-0451-462c-8453-1c35e2dc789d",
   "metadata": {
    "collapsed": true,
    "jupyter": {
     "outputs_hidden": true
    }
   },
   "outputs": [
    {
     "data": {
      "text/plain": [
       "'welcome'"
      ]
     },
     "execution_count": 2,
     "metadata": {},
     "output_type": "execute_result"
    }
   ],
   "source": [
    "'welcome'"
   ]
  },
  {
   "cell_type": "code",
   "execution_count": 3,
   "id": "493e795a-bbca-463b-902f-2a4973360d22",
   "metadata": {
    "collapsed": true,
    "jupyter": {
     "outputs_hidden": true
    }
   },
   "outputs": [
    {
     "data": {
      "text/plain": [
       "'i am Gangadhar'"
      ]
     },
     "execution_count": 3,
     "metadata": {},
     "output_type": "execute_result"
    }
   ],
   "source": [
    "\"i am Gangadhar\""
   ]
  },
  {
   "cell_type": "code",
   "execution_count": 4,
   "id": "a226cc4f-f01a-4a5a-9942-0376a231f928",
   "metadata": {
    "collapsed": true,
    "jupyter": {
     "outputs_hidden": true
    }
   },
   "outputs": [
    {
     "data": {
      "text/plain": [
       "'I am Gangadhar'"
      ]
     },
     "execution_count": 4,
     "metadata": {},
     "output_type": "execute_result"
    }
   ],
   "source": [
    "'I am Gangadhar'"
   ]
  },
  {
   "cell_type": "markdown",
   "id": "931d71d8-4ee0-4488-8445-aa1821d9fdcd",
   "metadata": {},
   "source": [
    "Note: Observe below, There is no single quote when we try to print the string using print function"
   ]
  },
  {
   "cell_type": "code",
   "execution_count": 5,
   "id": "c803a30b-57fe-4bdf-afd4-c9b4bc8444dc",
   "metadata": {
    "collapsed": true,
    "jupyter": {
     "outputs_hidden": true
    }
   },
   "outputs": [
    {
     "name": "stdout",
     "output_type": "stream",
     "text": [
      "welcom\n"
     ]
    }
   ],
   "source": [
    "print(\"welcom\")"
   ]
  },
  {
   "cell_type": "markdown",
   "id": "eeb40852-4942-4b5f-a3bd-610f9738672e",
   "metadata": {},
   "source": [
    "Escape sequence in print function"
   ]
  },
  {
   "cell_type": "code",
   "execution_count": 6,
   "id": "1885a9c2-9357-4e32-b0e7-4fedbdb59463",
   "metadata": {
    "collapsed": true,
    "jupyter": {
     "outputs_hidden": true
    }
   },
   "outputs": [
    {
     "name": "stdout",
     "output_type": "stream",
     "text": [
      "hello \n",
      "world\n"
     ]
    }
   ],
   "source": [
    "print(\"hello \\nworld\")"
   ]
  },
  {
   "cell_type": "code",
   "execution_count": 7,
   "id": "685e7e98-e3bb-45eb-9529-f6ec61d7986c",
   "metadata": {
    "collapsed": true,
    "jupyter": {
     "outputs_hidden": true
    }
   },
   "outputs": [
    {
     "name": "stdout",
     "output_type": "stream",
     "text": [
      "hello \tworld\n"
     ]
    }
   ],
   "source": [
    "print(\"hello \\tworld\")"
   ]
  },
  {
   "cell_type": "code",
   "execution_count": 8,
   "id": "e3e074b4-cadc-4807-b74c-6246ed130388",
   "metadata": {
    "collapsed": true,
    "jupyter": {
     "outputs_hidden": true
    }
   },
   "outputs": [
    {
     "name": "stdout",
     "output_type": "stream",
     "text": [
      "hello \\nworld\n"
     ]
    }
   ],
   "source": [
    "print(\"hello \\\\nworld\")"
   ]
  },
  {
   "cell_type": "code",
   "execution_count": 8,
   "id": "b9d9d04a-b790-4b53-9da5-4705a17737ea",
   "metadata": {
    "collapsed": true,
    "jupyter": {
     "outputs_hidden": true
    }
   },
   "outputs": [
    {
     "name": "stdout",
     "output_type": "stream",
     "text": [
      "hello \\nworld\n"
     ]
    }
   ],
   "source": [
    "print(\"hello \\\\nworld\")"
   ]
  },
  {
   "cell_type": "markdown",
   "id": "464f32e1-8da1-4616-a1c3-5b6774c957b5",
   "metadata": {},
   "source": []
  },
  {
   "cell_type": "raw",
   "id": "02562a2b-d1f2-4ef1-9a6a-fff001cbaff4",
   "metadata": {},
   "source": [
    "length function"
   ]
  },
  {
   "cell_type": "code",
   "execution_count": 9,
   "id": "6980de22-9165-49f2-97a2-20c4201c6e87",
   "metadata": {
    "collapsed": true,
    "jupyter": {
     "outputs_hidden": true
    }
   },
   "outputs": [
    {
     "data": {
      "text/plain": [
       "5"
      ]
     },
     "execution_count": 9,
     "metadata": {},
     "output_type": "execute_result"
    }
   ],
   "source": [
    "len('hello')"
   ]
  },
  {
   "cell_type": "code",
   "execution_count": 11,
   "id": "163db1e2-8c0d-42b4-b898-1bfbb90a4f23",
   "metadata": {
    "collapsed": true,
    "jupyter": {
     "outputs_hidden": true
    }
   },
   "outputs": [
    {
     "data": {
      "text/plain": [
       "4"
      ]
     },
     "execution_count": 11,
     "metadata": {},
     "output_type": "execute_result"
    }
   ],
   "source": [
    "len(\"i am\")"
   ]
  },
  {
   "cell_type": "markdown",
   "id": "a5020de4-7859-4935-8f4b-b08c42d5025f",
   "metadata": {},
   "source": [
    "# indexing and spacing in string"
   ]
  },
  {
   "cell_type": "raw",
   "id": "34d804cc-67ab-4e06-ab82-eea7dbb9ba71",
   "metadata": {},
   "source": [
    "0  1  2  3  4 \n",
    "H  e  l  l  o\n",
    "-5 -4 -3 -2 -1"
   ]
  },
  {
   "cell_type": "code",
   "execution_count": 12,
   "id": "c442564e-235d-4b45-a18a-4e57ecfdea4a",
   "metadata": {},
   "outputs": [],
   "source": [
    "str=\"Hello wWorld\""
   ]
  },
  {
   "cell_type": "code",
   "execution_count": 13,
   "id": "d52955fa-b3e9-4ece-b0b1-7f9f907fd7af",
   "metadata": {},
   "outputs": [
    {
     "data": {
      "text/plain": [
       "'Hello wWorld'"
      ]
     },
     "execution_count": 13,
     "metadata": {},
     "output_type": "execute_result"
    }
   ],
   "source": [
    "str"
   ]
  },
  {
   "cell_type": "code",
   "execution_count": 14,
   "id": "a4c75a7d-a06b-411e-8b91-0dac0cbc0d56",
   "metadata": {},
   "outputs": [
    {
     "data": {
      "text/plain": [
       "'H'"
      ]
     },
     "execution_count": 14,
     "metadata": {},
     "output_type": "execute_result"
    }
   ],
   "source": [
    "str[0]"
   ]
  },
  {
   "cell_type": "code",
   "execution_count": 15,
   "id": "87235325-1eaa-4145-aecd-a0683606e3c7",
   "metadata": {},
   "outputs": [
    {
     "data": {
      "text/plain": [
       "'o'"
      ]
     },
     "execution_count": 15,
     "metadata": {},
     "output_type": "execute_result"
    }
   ],
   "source": [
    "str[-4]"
   ]
  },
  {
   "cell_type": "code",
   "execution_count": 16,
   "id": "c01416f7-cce1-49a9-a2e6-57877514d6b0",
   "metadata": {},
   "outputs": [],
   "source": [
    "str=\"Hello\""
   ]
  },
  {
   "cell_type": "code",
   "execution_count": 17,
   "id": "0c49f36f-1494-4471-9cbf-663198d84c31",
   "metadata": {},
   "outputs": [
    {
     "data": {
      "text/plain": [
       "'Hello'"
      ]
     },
     "execution_count": 17,
     "metadata": {},
     "output_type": "execute_result"
    }
   ],
   "source": [
    "str"
   ]
  },
  {
   "cell_type": "code",
   "execution_count": 18,
   "id": "a1c9a767-3018-47cc-96f0-1805a047be1f",
   "metadata": {},
   "outputs": [
    {
     "data": {
      "text/plain": [
       "'H'"
      ]
     },
     "execution_count": 18,
     "metadata": {},
     "output_type": "execute_result"
    }
   ],
   "source": [
    "str[-5]"
   ]
  },
  {
   "cell_type": "code",
   "execution_count": 19,
   "id": "3711b4ac-de53-48b4-b4cf-1d486a12af1d",
   "metadata": {},
   "outputs": [
    {
     "ename": "IndexError",
     "evalue": "string index out of range",
     "output_type": "error",
     "traceback": [
      "\u001b[0;31m---------------------------------------------------------------------------\u001b[0m",
      "\u001b[0;31mIndexError\u001b[0m                                Traceback (most recent call last)",
      "Cell \u001b[0;32mIn[19], line 1\u001b[0m\n\u001b[0;32m----> 1\u001b[0m \u001b[38;5;28mstr\u001b[39m[\u001b[38;5;241m-\u001b[39m\u001b[38;5;241m6\u001b[39m]\n",
      "\u001b[0;31mIndexError\u001b[0m: string index out of range"
     ]
    }
   ],
   "source": [
    "str[-6]"
   ]
  },
  {
   "cell_type": "markdown",
   "id": "3201db1f-96c7-4514-9b07-bf9bede56e5a",
   "metadata": {},
   "source": [
    "## Slicing"
   ]
  },
  {
   "cell_type": "code",
   "execution_count": 22,
   "id": "26c04923-5b75-4350-a456-82a170bddf92",
   "metadata": {},
   "outputs": [],
   "source": [
    "str=\"Hello world\""
   ]
  },
  {
   "cell_type": "code",
   "execution_count": 23,
   "id": "60f60703-a1a7-4029-8eb6-60cdf5059c3b",
   "metadata": {},
   "outputs": [
    {
     "data": {
      "text/plain": [
       "'Hello world'"
      ]
     },
     "execution_count": 23,
     "metadata": {},
     "output_type": "execute_result"
    }
   ],
   "source": [
    "str"
   ]
  },
  {
   "cell_type": "markdown",
   "id": "05359980-2843-4e40-b349-807b1b900eb5",
   "metadata": {},
   "source": [
    "## str[start:stop:jump]"
   ]
  },
  {
   "cell_type": "code",
   "execution_count": 24,
   "id": "d59a2bd6-6c7e-4a3b-b87b-f5fb436f8f19",
   "metadata": {},
   "outputs": [
    {
     "data": {
      "text/plain": [
       "'Hello '"
      ]
     },
     "execution_count": 24,
     "metadata": {},
     "output_type": "execute_result"
    }
   ],
   "source": [
    "str[0:6]"
   ]
  },
  {
   "cell_type": "code",
   "execution_count": 25,
   "id": "feb06d1d-5e7c-4b32-8689-88ca4b9fcf18",
   "metadata": {},
   "outputs": [
    {
     "data": {
      "text/plain": [
       "'H '"
      ]
     },
     "execution_count": 25,
     "metadata": {},
     "output_type": "execute_result"
    }
   ],
   "source": [
    "str[0:7:5]"
   ]
  },
  {
   "cell_type": "code",
   "execution_count": 30,
   "id": "68742824-f204-4fcd-9e04-143d2bea8855",
   "metadata": {},
   "outputs": [
    {
     "ename": "ValueError",
     "evalue": "slice step cannot be zero",
     "output_type": "error",
     "traceback": [
      "\u001b[0;31m---------------------------------------------------------------------------\u001b[0m",
      "\u001b[0;31mValueError\u001b[0m                                Traceback (most recent call last)",
      "Cell \u001b[0;32mIn[30], line 1\u001b[0m\n\u001b[0;32m----> 1\u001b[0m \u001b[38;5;28mstr\u001b[39m[\u001b[38;5;241m0\u001b[39m:\u001b[38;5;241m7\u001b[39m:\u001b[38;5;241m0\u001b[39m]\n",
      "\u001b[0;31mValueError\u001b[0m: slice step cannot be zero"
     ]
    }
   ],
   "source": [
    "str[0:7:0]"
   ]
  },
  {
   "cell_type": "code",
   "execution_count": 32,
   "id": "92b28735-c844-48b4-afaf-c3c9a8049bc5",
   "metadata": {},
   "outputs": [
    {
     "data": {
      "text/plain": [
       "''"
      ]
     },
     "execution_count": 32,
     "metadata": {},
     "output_type": "execute_result"
    }
   ],
   "source": [
    "str[-1:-5]"
   ]
  },
  {
   "cell_type": "code",
   "execution_count": 33,
   "id": "c5a4269f-3d15-43e4-8c4c-17621e997867",
   "metadata": {},
   "outputs": [
    {
     "data": {
      "text/plain": [
       "'llo world'"
      ]
     },
     "execution_count": 33,
     "metadata": {},
     "output_type": "execute_result"
    }
   ],
   "source": [
    "str[2:]"
   ]
  },
  {
   "cell_type": "code",
   "execution_count": 34,
   "id": "db04fb65-bd75-477a-b8f8-289bbcd668f4",
   "metadata": {},
   "outputs": [
    {
     "data": {
      "text/plain": [
       "'Hello'"
      ]
     },
     "execution_count": 34,
     "metadata": {},
     "output_type": "execute_result"
    }
   ],
   "source": [
    "str[:5]"
   ]
  },
  {
   "cell_type": "code",
   "execution_count": 35,
   "id": "6a011584-96ae-4fb3-8b4f-c5cf1f581be8",
   "metadata": {},
   "outputs": [
    {
     "data": {
      "text/plain": [
       "'Hello world'"
      ]
     },
     "execution_count": 35,
     "metadata": {},
     "output_type": "execute_result"
    }
   ],
   "source": [
    "str[::]"
   ]
  },
  {
   "cell_type": "code",
   "execution_count": 36,
   "id": "15822819-9ec8-49db-b5ba-689b5a0d700c",
   "metadata": {},
   "outputs": [
    {
     "data": {
      "text/plain": [
       "'Hlowrd'"
      ]
     },
     "execution_count": 36,
     "metadata": {},
     "output_type": "execute_result"
    }
   ],
   "source": [
    "str[::2]"
   ]
  },
  {
   "cell_type": "markdown",
   "id": "3efccec8-244a-42cd-afc4-b8574a6e9412",
   "metadata": {},
   "source": [
    "## revers string"
   ]
  },
  {
   "cell_type": "code",
   "execution_count": 37,
   "id": "44f6a5b2-e946-4765-8ac5-b30dca0c8828",
   "metadata": {},
   "outputs": [
    {
     "data": {
      "text/plain": [
       "'dlrow olleH'"
      ]
     },
     "execution_count": 37,
     "metadata": {},
     "output_type": "execute_result"
    }
   ],
   "source": [
    "str[::-1]"
   ]
  },
  {
   "cell_type": "markdown",
   "id": "c9ff4d92-5936-42fa-9fca-79c2750e8970",
   "metadata": {},
   "source": [
    "# String propertise and methods "
   ]
  },
  {
   "cell_type": "markdown",
   "id": "8b4aa6c0-eb2f-4fb5-a961-beeff0255603",
   "metadata": {},
   "source": [
    "##  strings are immutabile"
   ]
  },
  {
   "cell_type": "code",
   "execution_count": 38,
   "id": "a3041eac-0fd2-440e-b87b-ea5b297261ff",
   "metadata": {},
   "outputs": [],
   "source": [
    "name=\"Ranga\""
   ]
  },
  {
   "cell_type": "code",
   "execution_count": 39,
   "id": "dbd1d52e-6ac0-4019-a02c-6c95b6307e36",
   "metadata": {},
   "outputs": [
    {
     "data": {
      "text/plain": [
       "'Ranga'"
      ]
     },
     "execution_count": 39,
     "metadata": {},
     "output_type": "execute_result"
    }
   ],
   "source": [
    "name"
   ]
  },
  {
   "cell_type": "code",
   "execution_count": 40,
   "id": "bcab199a-efbe-4209-912b-a8f9ad42ef10",
   "metadata": {},
   "outputs": [
    {
     "ename": "TypeError",
     "evalue": "'str' object does not support item assignment",
     "output_type": "error",
     "traceback": [
      "\u001b[0;31m---------------------------------------------------------------------------\u001b[0m",
      "\u001b[0;31mTypeError\u001b[0m                                 Traceback (most recent call last)",
      "Cell \u001b[0;32mIn[40], line 1\u001b[0m\n\u001b[0;32m----> 1\u001b[0m name[\u001b[38;5;241m0\u001b[39m]\u001b[38;5;241m=\u001b[39m\u001b[38;5;124m'\u001b[39m\u001b[38;5;124mM\u001b[39m\u001b[38;5;124m'\u001b[39m\n",
      "\u001b[0;31mTypeError\u001b[0m: 'str' object does not support item assignment"
     ]
    }
   ],
   "source": [
    "name[0]='M'"
   ]
  },
  {
   "cell_type": "code",
   "execution_count": 41,
   "id": "7f029e14-92bf-4b8d-aa3d-30ab9001281c",
   "metadata": {},
   "outputs": [],
   "source": [
    "last=name[1:]"
   ]
  },
  {
   "cell_type": "code",
   "execution_count": 42,
   "id": "8e804fc6-e849-4e43-9b58-c5a72df4f7ca",
   "metadata": {},
   "outputs": [
    {
     "data": {
      "text/plain": [
       "'anga'"
      ]
     },
     "execution_count": 42,
     "metadata": {},
     "output_type": "execute_result"
    }
   ],
   "source": [
    "last"
   ]
  },
  {
   "cell_type": "code",
   "execution_count": 43,
   "id": "17db2c03-e207-4d95-a538-d4f5871e8792",
   "metadata": {},
   "outputs": [
    {
     "data": {
      "text/plain": [
       "'Manga'"
      ]
     },
     "execution_count": 43,
     "metadata": {},
     "output_type": "execute_result"
    }
   ],
   "source": [
    "'M' + last"
   ]
  },
  {
   "cell_type": "code",
   "execution_count": 44,
   "id": "086ebd94-c29a-4a4d-bab4-a2e9d8fdbb54",
   "metadata": {},
   "outputs": [],
   "source": [
    "# concatination and multiplication of letters"
   ]
  },
  {
   "cell_type": "code",
   "execution_count": 45,
   "id": "27eccf59-1f80-46a9-8c05-afdca817bbdf",
   "metadata": {},
   "outputs": [],
   "source": [
    "str=\"hellow wolrd\""
   ]
  },
  {
   "cell_type": "code",
   "execution_count": 46,
   "id": "c76ac639-d9a7-4f11-8712-faa4a62e6384",
   "metadata": {},
   "outputs": [
    {
     "data": {
      "text/plain": [
       "'hellow wolrd'"
      ]
     },
     "execution_count": 46,
     "metadata": {},
     "output_type": "execute_result"
    }
   ],
   "source": [
    "str"
   ]
  },
  {
   "cell_type": "code",
   "execution_count": 48,
   "id": "e6e3c0be-54a7-4e41-8bb5-035acf9397ca",
   "metadata": {},
   "outputs": [
    {
     "data": {
      "text/plain": [
       "'hellow wolrd its fine'"
      ]
     },
     "execution_count": 48,
     "metadata": {},
     "output_type": "execute_result"
    }
   ],
   "source": [
    "str + \" its fine\""
   ]
  },
  {
   "cell_type": "code",
   "execution_count": 53,
   "id": "50177972-c908-46dc-9a05-1ef874ea5bb4",
   "metadata": {},
   "outputs": [],
   "source": [
    "str=str + \" its fine\""
   ]
  },
  {
   "cell_type": "code",
   "execution_count": 54,
   "id": "f9e045ac-da6a-44d0-a6ed-4b3641daca76",
   "metadata": {},
   "outputs": [
    {
     "data": {
      "text/plain": [
       "'hellow wolrd its fine its fine'"
      ]
     },
     "execution_count": 54,
     "metadata": {},
     "output_type": "execute_result"
    }
   ],
   "source": [
    "str"
   ]
  },
  {
   "cell_type": "code",
   "execution_count": 55,
   "id": "27accfeb-f615-421c-9b0b-d8f35f49e128",
   "metadata": {},
   "outputs": [],
   "source": [
    "# string multi"
   ]
  },
  {
   "cell_type": "code",
   "execution_count": 60,
   "id": "29d329ec-6e11-49b3-916c-b6f29fdece51",
   "metadata": {},
   "outputs": [],
   "source": [
    "letter='Z'"
   ]
  },
  {
   "cell_type": "code",
   "execution_count": 61,
   "id": "120f5bbe-3e8d-4b89-85c8-9f1c3309fee4",
   "metadata": {},
   "outputs": [
    {
     "data": {
      "text/plain": [
       "'Z'"
      ]
     },
     "execution_count": 61,
     "metadata": {},
     "output_type": "execute_result"
    }
   ],
   "source": [
    "letter"
   ]
  },
  {
   "cell_type": "code",
   "execution_count": 62,
   "id": "95446d19-6990-4a91-9def-02e55a27b283",
   "metadata": {},
   "outputs": [
    {
     "data": {
      "text/plain": [
       "'ZZZZZZZZZZ'"
      ]
     },
     "execution_count": 62,
     "metadata": {},
     "output_type": "execute_result"
    }
   ],
   "source": [
    "letter * 10"
   ]
  },
  {
   "cell_type": "code",
   "execution_count": 63,
   "id": "f6b464f9-4ce0-41fb-b8e9-0c0f4cb83304",
   "metadata": {},
   "outputs": [
    {
     "data": {
      "text/plain": [
       "'zzgg'"
      ]
     },
     "execution_count": 63,
     "metadata": {},
     "output_type": "execute_result"
    }
   ],
   "source": [
    "'zz' + \"gg\""
   ]
  },
  {
   "cell_type": "code",
   "execution_count": 64,
   "id": "fa56a164-b1c7-4d4f-a643-7bf4b82054b9",
   "metadata": {},
   "outputs": [
    {
     "ename": "TypeError",
     "evalue": "can only concatenate str (not \"int\") to str",
     "output_type": "error",
     "traceback": [
      "\u001b[0;31m---------------------------------------------------------------------------\u001b[0m",
      "\u001b[0;31mTypeError\u001b[0m                                 Traceback (most recent call last)",
      "Cell \u001b[0;32mIn[64], line 1\u001b[0m\n\u001b[0;32m----> 1\u001b[0m \u001b[38;5;124m'\u001b[39m\u001b[38;5;124mz\u001b[39m\u001b[38;5;124m'\u001b[39m \u001b[38;5;241m+\u001b[39m \u001b[38;5;241m2\u001b[39m\n",
      "\u001b[0;31mTypeError\u001b[0m: can only concatenate str (not \"int\") to str"
     ]
    }
   ],
   "source": [
    "'z' + 2"
   ]
  },
  {
   "cell_type": "code",
   "execution_count": 65,
   "id": "d8d9af26-4c9e-4be3-8e24-2a8bcb8f385c",
   "metadata": {},
   "outputs": [
    {
     "data": {
      "text/plain": [
       "'zzzzz'"
      ]
     },
     "execution_count": 65,
     "metadata": {},
     "output_type": "execute_result"
    }
   ],
   "source": [
    "'z' * 5"
   ]
  },
  {
   "cell_type": "markdown",
   "id": "75a63ea3-1f69-4555-adea-14a58645a3e0",
   "metadata": {},
   "source": [
    "## string methos"
   ]
  },
  {
   "cell_type": "code",
   "execution_count": 90,
   "id": "82ad2b37-5279-4905-945f-ba23b353e0ee",
   "metadata": {},
   "outputs": [],
   "source": [
    "#these methods does not effect original string"
   ]
  },
  {
   "cell_type": "code",
   "execution_count": 71,
   "id": "934a192b-e3d4-4388-a175-3a947d7368e3",
   "metadata": {},
   "outputs": [],
   "source": [
    "x=\"Hello World\"\n"
   ]
  },
  {
   "cell_type": "code",
   "execution_count": 67,
   "id": "39284af5-20e2-4417-97a1-2c836d4785aa",
   "metadata": {},
   "outputs": [
    {
     "data": {
      "text/plain": [
       "'Hello World'"
      ]
     },
     "execution_count": 67,
     "metadata": {},
     "output_type": "execute_result"
    }
   ],
   "source": [
    "x."
   ]
  },
  {
   "cell_type": "code",
   "execution_count": 68,
   "id": "3b7c6379-23f4-4090-8f4d-ce5aa335dfaa",
   "metadata": {},
   "outputs": [
    {
     "data": {
      "text/plain": [
       "'HELLO WORLD'"
      ]
     },
     "execution_count": 68,
     "metadata": {},
     "output_type": "execute_result"
    }
   ],
   "source": [
    "x.upper()"
   ]
  },
  {
   "cell_type": "code",
   "execution_count": 69,
   "id": "0d75486b-2071-4d38-bf7b-37deeb3551ae",
   "metadata": {},
   "outputs": [
    {
     "data": {
      "text/plain": [
       "'hello world'"
      ]
     },
     "execution_count": 69,
     "metadata": {},
     "output_type": "execute_result"
    }
   ],
   "source": [
    "x.casefold()"
   ]
  },
  {
   "cell_type": "code",
   "execution_count": 72,
   "id": "50fc2a38-1c92-4cb2-bd41-7976c013f25e",
   "metadata": {},
   "outputs": [
    {
     "data": {
      "text/plain": [
       "'Hello world!. its fine'"
      ]
     },
     "execution_count": 72,
     "metadata": {},
     "output_type": "execute_result"
    }
   ],
   "source": [
    "x.capitalize()"
   ]
  },
  {
   "cell_type": "code",
   "execution_count": 76,
   "id": "265a7bac-9265-4798-9231-ab9f573b1397",
   "metadata": {},
   "outputs": [
    {
     "data": {
      "text/plain": [
       "1"
      ]
     },
     "execution_count": 76,
     "metadata": {},
     "output_type": "execute_result"
    }
   ],
   "source": [
    "x.count('ll')"
   ]
  },
  {
   "cell_type": "code",
   "execution_count": 77,
   "id": "a3715e68-f75c-49ea-97be-36d039bb53cb",
   "metadata": {},
   "outputs": [
    {
     "data": {
      "text/plain": [
       "2"
      ]
     },
     "execution_count": 77,
     "metadata": {},
     "output_type": "execute_result"
    }
   ],
   "source": [
    "x.find('l')"
   ]
  },
  {
   "cell_type": "code",
   "execution_count": 80,
   "id": "3dbca6b7-9cf8-4a75-a600-f4b87b736362",
   "metadata": {},
   "outputs": [
    {
     "data": {
      "text/plain": [
       "6"
      ]
     },
     "execution_count": 80,
     "metadata": {},
     "output_type": "execute_result"
    }
   ],
   "source": [
    "x.index('W')"
   ]
  },
  {
   "cell_type": "code",
   "execution_count": 81,
   "id": "7063d073-4ed8-40de-bb8e-373cd83ccb81",
   "metadata": {},
   "outputs": [
    {
     "data": {
      "text/plain": [
       "False"
      ]
     },
     "execution_count": 81,
     "metadata": {},
     "output_type": "execute_result"
    }
   ],
   "source": [
    "x.isalnum()"
   ]
  },
  {
   "cell_type": "code",
   "execution_count": 82,
   "id": "c7cc8c9d-43ca-423a-a6db-13d1cdab1803",
   "metadata": {},
   "outputs": [
    {
     "data": {
      "text/plain": [
       "True"
      ]
     },
     "execution_count": 82,
     "metadata": {},
     "output_type": "execute_result"
    }
   ],
   "source": [
    "x.isprintable()"
   ]
  },
  {
   "cell_type": "code",
   "execution_count": 86,
   "id": "4c363439-6e6d-41c0-8ea7-997816d95c19",
   "metadata": {},
   "outputs": [
    {
     "data": {
      "text/plain": [
       "'hello world!. its fine'"
      ]
     },
     "execution_count": 86,
     "metadata": {},
     "output_type": "execute_result"
    }
   ],
   "source": [
    "x.lower()"
   ]
  },
  {
   "cell_type": "code",
   "execution_count": 84,
   "id": "6488fde9-896c-4e54-a1c4-bfa57e924e4b",
   "metadata": {},
   "outputs": [
    {
     "data": {
      "text/plain": [
       "'HELLO WORLD!. ITS FINE'"
      ]
     },
     "execution_count": 84,
     "metadata": {},
     "output_type": "execute_result"
    }
   ],
   "source": [
    "x.upper()"
   ]
  },
  {
   "cell_type": "code",
   "execution_count": 87,
   "id": "a4675236-f1c4-4f13-9a5c-66d5aa50532e",
   "metadata": {},
   "outputs": [
    {
     "data": {
      "text/plain": [
       "'Hello World!. Its Fine'"
      ]
     },
     "execution_count": 87,
     "metadata": {},
     "output_type": "execute_result"
    }
   ],
   "source": [
    "x.title()"
   ]
  },
  {
   "cell_type": "code",
   "execution_count": 88,
   "id": "a7182382-d1ea-45e8-891e-681b6d40979f",
   "metadata": {},
   "outputs": [
    {
     "data": {
      "text/plain": [
       "'hELLO wORLD!. ITS FINE'"
      ]
     },
     "execution_count": 88,
     "metadata": {},
     "output_type": "execute_result"
    }
   ],
   "source": [
    "x.swapcase()"
   ]
  },
  {
   "cell_type": "code",
   "execution_count": 89,
   "id": "78909837-5d23-42a8-96af-f69370b57953",
   "metadata": {},
   "outputs": [
    {
     "data": {
      "text/plain": [
       "'Hello World!. its fine'"
      ]
     },
     "execution_count": 89,
     "metadata": {},
     "output_type": "execute_result"
    }
   ],
   "source": [
    "x"
   ]
  },
  {
   "cell_type": "code",
   "execution_count": 91,
   "id": "6ebe4ecd-48cd-4a99-98e2-cf5e382d6781",
   "metadata": {},
   "outputs": [
    {
     "data": {
      "text/plain": [
       "['Hello', 'World!.', 'its', 'fine']"
      ]
     },
     "execution_count": 91,
     "metadata": {},
     "output_type": "execute_result"
    }
   ],
   "source": [
    "x.split()"
   ]
  },
  {
   "cell_type": "code",
   "execution_count": 92,
   "id": "30d58d6a-6769-4136-8ba7-2eac97d5c2c6",
   "metadata": {},
   "outputs": [
    {
     "data": {
      "text/plain": [
       "['He', '', 'o Wor', 'd!. its fine']"
      ]
     },
     "execution_count": 92,
     "metadata": {},
     "output_type": "execute_result"
    }
   ],
   "source": [
    "x.split('l')"
   ]
  },
  {
   "cell_type": "markdown",
   "id": "c99bd9f9-cd2f-4c6a-8b70-3b465eda3251",
   "metadata": {},
   "source": [
    "# print formating in string"
   ]
  },
  {
   "cell_type": "raw",
   "id": "5d5d4d98-7626-489e-8745-d63643c50150",
   "metadata": {},
   "source": [
    "String Formatting\n",
    "\n",
    "\n",
    "String formatting lets you inject items into a string rather than trying to chain items together using commas or string concatenation. As a quick comparison, consider:\n",
    "\n",
    "player = 'Thomas'\n",
    "points = 33\n",
    "\n",
    "'Last night, '+player+' scored '+str(points)+' points.'  # concatenation\n",
    "\n",
    "f'Last night, {player} scored {points} points.'          # string formatting\n",
    "There are three ways to perform string formatting.\n",
    "\n",
    "The oldest method involves placeholders using the modulo % character.\n",
    "An improved technique uses the .format() string method.\n",
    "The newest method, introduced with Python 3.6, uses formatted string literals, called f-strings.\n",
    "Since you will likely encounter all three versions in someone else's code, we describe each of them here.\n",
    "\n",
    "Formatting with placeholders\n",
    "You can use %s to inject strings into your print statements. The modulo % is referred to as a \"string formatting operator\"."
   ]
  },
  {
   "cell_type": "markdown",
   "id": "4a55dd38-281c-436a-bca6-3d33c130a94f",
   "metadata": {},
   "source": [
    "## Formatting with the .format() method"
   ]
  },
  {
   "cell_type": "raw",
   "id": "f1952dca-54c9-498f-9f99-c8ab4d7404f5",
   "metadata": {},
   "source": [
    "A better way to format objects into your strings for print statements is with the string .format() method. \n",
    "    \n",
    "    The syntax is:\n",
    "\n",
    "'String here {} then also {}'.format('something1','something2')"
   ]
  },
  {
   "cell_type": "code",
   "execution_count": 93,
   "id": "1cc3baa1-3349-493b-921c-44fe56ec3041",
   "metadata": {},
   "outputs": [
    {
     "name": "stdout",
     "output_type": "stream",
     "text": [
      "I am Ganga\n"
     ]
    }
   ],
   "source": [
    "print(\"I am {}\".format(\"Ganga\"))"
   ]
  },
  {
   "cell_type": "code",
   "execution_count": 99,
   "id": "04b3f90d-f5ae-4cf8-82d2-028476fa79d4",
   "metadata": {},
   "outputs": [
    {
     "name": "stdout",
     "output_type": "stream",
     "text": [
      "I am inteligent innocent and quick\n"
     ]
    }
   ],
   "source": [
    "print(\"I am {} {} and {}\".format(\"inteligent\",\"innocent\",\"quick\"))"
   ]
  },
  {
   "cell_type": "code",
   "execution_count": 100,
   "id": "dd38e683-8dbd-4038-bf1a-cea1ed4a4fed",
   "metadata": {},
   "outputs": [
    {
     "name": "stdout",
     "output_type": "stream",
     "text": [
      "I am quick innocent and inteligent\n"
     ]
    }
   ],
   "source": [
    "print(\"I am {2} {1} and {0}\".format(\"inteligent\",\"innocent\",\"quick\"))"
   ]
  },
  {
   "cell_type": "code",
   "execution_count": 101,
   "id": "c1a42d31-4b27-4aa1-a83b-e7ce24b71381",
   "metadata": {},
   "outputs": [
    {
     "name": "stdout",
     "output_type": "stream",
     "text": [
      "I am innocent innocent and innocent\n"
     ]
    }
   ],
   "source": [
    "print(\"I am {1} {1} and {1}\".format(\"inteligent\",\"innocent\",\"quick\"))"
   ]
  },
  {
   "cell_type": "code",
   "execution_count": 103,
   "id": "ac74f476-d2b7-4032-b7bf-4026247c4a3e",
   "metadata": {},
   "outputs": [
    {
     "name": "stdout",
     "output_type": "stream",
     "text": [
      "I am inteligent innocent and quick\n"
     ]
    }
   ],
   "source": [
    "print(\"I am {i} {p} and {q}\".format(i=\"inteligent\",p=\"innocent\",q=\"quick\"))"
   ]
  },
  {
   "cell_type": "markdown",
   "id": "a40ed7ba-163a-4ab7-ab9c-dbc180502e51",
   "metadata": {},
   "source": [
    "#  float pint numbers formating"
   ]
  },
  {
   "cell_type": "code",
   "execution_count": 104,
   "id": "f901ab78-5453-48ca-a1ac-7dea8b1a4463",
   "metadata": {},
   "outputs": [],
   "source": [
    "# syntax {value:width.precision f}"
   ]
  },
  {
   "cell_type": "code",
   "execution_count": 111,
   "id": "586663bc-05d4-4d58-83fc-bd33de0d3e8a",
   "metadata": {},
   "outputs": [],
   "source": [
    "result=245637256/7"
   ]
  },
  {
   "cell_type": "code",
   "execution_count": 112,
   "id": "83958e59-8a4f-4cc3-ab95-a0abdb63155f",
   "metadata": {},
   "outputs": [
    {
     "data": {
      "text/plain": [
       "35091036.571428575"
      ]
     },
     "execution_count": 112,
     "metadata": {},
     "output_type": "execute_result"
    }
   ],
   "source": [
    "result"
   ]
  },
  {
   "cell_type": "code",
   "execution_count": 113,
   "id": "67661286-0117-4360-bd2e-f956f41ee813",
   "metadata": {},
   "outputs": [
    {
     "name": "stdout",
     "output_type": "stream",
     "text": [
      "The result was 35091036.571428575\n"
     ]
    }
   ],
   "source": [
    "print('The result was {}'.format(result))"
   ]
  },
  {
   "cell_type": "code",
   "execution_count": 116,
   "id": "dc8485d7-c43e-4509-b388-95e038f8a99d",
   "metadata": {},
   "outputs": [
    {
     "name": "stdout",
     "output_type": "stream",
     "text": [
      "The result was                                                                                         35091036.571\n"
     ]
    }
   ],
   "source": [
    "print('The result was {r:1.3f}'.format(r=result))"
   ]
  },
  {
   "cell_type": "markdown",
   "id": "461eb282-7aad-49dd-8128-9fe7c646e103",
   "metadata": {},
   "source": [
    "# The newest method, introduced with Python 3.6, uses formatted string literals, called f-strings."
   ]
  },
  {
   "cell_type": "code",
   "execution_count": 117,
   "id": "51080e41-0bb0-4de6-8798-336faa1d36f3",
   "metadata": {},
   "outputs": [],
   "source": [
    "name=\"Ganga\""
   ]
  },
  {
   "cell_type": "code",
   "execution_count": 118,
   "id": "573bf325-71a1-4d0b-a5be-1908f8b642c2",
   "metadata": {},
   "outputs": [
    {
     "data": {
      "text/plain": [
       "'Ganga'"
      ]
     },
     "execution_count": 118,
     "metadata": {},
     "output_type": "execute_result"
    }
   ],
   "source": [
    "name"
   ]
  },
  {
   "cell_type": "code",
   "execution_count": 119,
   "id": "cfa9731b-339f-45a8-861e-0ebda44bb2ec",
   "metadata": {},
   "outputs": [
    {
     "ename": "SyntaxError",
     "evalue": "unterminated string literal (detected at line 1) (1742340009.py, line 1)",
     "output_type": "error",
     "traceback": [
      "\u001b[0;36m  Cell \u001b[0;32mIn[119], line 1\u001b[0;36m\u001b[0m\n\u001b[0;31m    print(f'My name is {name})\u001b[0m\n\u001b[0m          ^\u001b[0m\n\u001b[0;31mSyntaxError\u001b[0m\u001b[0;31m:\u001b[0m unterminated string literal (detected at line 1)\n"
     ]
    }
   ],
   "source": [
    "print(f'My name is {name})"
   ]
  },
  {
   "cell_type": "code",
   "execution_count": null,
   "id": "8fb8e0fd-2649-4e45-bd65-81c27e7764df",
   "metadata": {},
   "outputs": [],
   "source": []
  }
 ],
 "metadata": {
  "kernelspec": {
   "display_name": "Python 3 (ipykernel)",
   "language": "python",
   "name": "python3"
  },
  "language_info": {
   "codemirror_mode": {
    "name": "ipython",
    "version": 3
   },
   "file_extension": ".py",
   "mimetype": "text/x-python",
   "name": "python",
   "nbconvert_exporter": "python",
   "pygments_lexer": "ipython3",
   "version": "3.11.7"
  }
 },
 "nbformat": 4,
 "nbformat_minor": 5
}
