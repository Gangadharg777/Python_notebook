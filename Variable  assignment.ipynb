{
 "cells": [
  {
   "cell_type": "code",
   "execution_count": 1,
   "id": "b58dd996-273e-4b18-9d29-bb3881ac4201",
   "metadata": {},
   "outputs": [],
   "source": [
    "a=10"
   ]
  },
  {
   "cell_type": "code",
   "execution_count": 2,
   "id": "5844feb5-ad75-41ef-9f82-b8ca06e3ae43",
   "metadata": {},
   "outputs": [
    {
     "data": {
      "text/plain": [
       "10"
      ]
     },
     "execution_count": 2,
     "metadata": {},
     "output_type": "execute_result"
    }
   ],
   "source": [
    "a"
   ]
  },
  {
   "cell_type": "code",
   "execution_count": 3,
   "id": "ac1c844e-6867-4945-9d9e-cf8bc344e841",
   "metadata": {},
   "outputs": [],
   "source": [
    "a=23.55555\n"
   ]
  },
  {
   "cell_type": "code",
   "execution_count": 4,
   "id": "2d8dedc7-5f25-4846-af1c-1dfc60be32dc",
   "metadata": {},
   "outputs": [
    {
     "data": {
      "text/plain": [
       "23.55555"
      ]
     },
     "execution_count": 4,
     "metadata": {},
     "output_type": "execute_result"
    }
   ],
   "source": [
    "a"
   ]
  },
  {
   "cell_type": "code",
   "execution_count": 5,
   "id": "5cfe9bbd-57f2-4dad-a436-d4ccc50d8f2c",
   "metadata": {},
   "outputs": [],
   "source": [
    "a=\"hi\""
   ]
  },
  {
   "cell_type": "code",
   "execution_count": 6,
   "id": "52392a55-ead8-4b36-8e1a-2e94c1f5b9a5",
   "metadata": {},
   "outputs": [
    {
     "data": {
      "text/plain": [
       "'hi'"
      ]
     },
     "execution_count": 6,
     "metadata": {},
     "output_type": "execute_result"
    }
   ],
   "source": [
    "a"
   ]
  },
  {
   "cell_type": "code",
   "execution_count": 7,
   "id": "e3fd6373-63b0-48a5-b604-30ce91f65ef5",
   "metadata": {},
   "outputs": [
    {
     "data": {
      "text/plain": [
       "str"
      ]
     },
     "execution_count": 7,
     "metadata": {},
     "output_type": "execute_result"
    }
   ],
   "source": [
    "type(a)"
   ]
  },
  {
   "cell_type": "code",
   "execution_count": 8,
   "id": "1560409a-ed06-4cf3-a271-a76522071d18",
   "metadata": {},
   "outputs": [],
   "source": [
    "a=10"
   ]
  },
  {
   "cell_type": "code",
   "execution_count": 9,
   "id": "16302ae6-8ba4-437d-8c81-67a28e7d578b",
   "metadata": {},
   "outputs": [
    {
     "data": {
      "text/plain": [
       "10"
      ]
     },
     "execution_count": 9,
     "metadata": {},
     "output_type": "execute_result"
    }
   ],
   "source": [
    "a"
   ]
  },
  {
   "cell_type": "code",
   "execution_count": 14,
   "id": "4a773c36-e0dd-494a-9614-510023150511",
   "metadata": {},
   "outputs": [],
   "source": [
    "a=a+a"
   ]
  },
  {
   "cell_type": "code",
   "execution_count": 15,
   "id": "9c0347fb-5756-471b-98ba-82f95e43561d",
   "metadata": {},
   "outputs": [
    {
     "data": {
      "text/plain": [
       "80"
      ]
     },
     "execution_count": 15,
     "metadata": {},
     "output_type": "execute_result"
    }
   ],
   "source": [
    "a"
   ]
  },
  {
   "cell_type": "code",
   "execution_count": 16,
   "id": "4e52b029-5382-4b9e-8965-a07b68c559d6",
   "metadata": {},
   "outputs": [],
   "source": [
    "income=100\n",
    "\n",
    "tax=0.1\n",
    "\n",
    "my_tax=income*tax"
   ]
  },
  {
   "cell_type": "code",
   "execution_count": 17,
   "id": "b76f41b2-ea8f-4c46-a315-6e9b712a547a",
   "metadata": {},
   "outputs": [
    {
     "data": {
      "text/plain": [
       "10.0"
      ]
     },
     "execution_count": 17,
     "metadata": {},
     "output_type": "execute_result"
    }
   ],
   "source": [
    "my_tax"
   ]
  },
  {
   "cell_type": "code",
   "execution_count": null,
   "id": "ea1c4bd3-8452-473e-a029-81d88347e26a",
   "metadata": {},
   "outputs": [],
   "source": []
  }
 ],
 "metadata": {
  "kernelspec": {
   "display_name": "Python 3 (ipykernel)",
   "language": "python",
   "name": "python3"
  },
  "language_info": {
   "codemirror_mode": {
    "name": "ipython",
    "version": 3
   },
   "file_extension": ".py",
   "mimetype": "text/x-python",
   "name": "python",
   "nbconvert_exporter": "python",
   "pygments_lexer": "ipython3",
   "version": "3.11.7"
  }
 },
 "nbformat": 4,
 "nbformat_minor": 5
}
