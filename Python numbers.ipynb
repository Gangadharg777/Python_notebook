{
 "cells": [
  {
   "cell_type": "code",
   "execution_count": 1,
   "id": "6d37d2ec-7265-4590-9672-87823a18f8ec",
   "metadata": {},
   "outputs": [
    {
     "data": {
      "text/plain": [
       "4"
      ]
     },
     "execution_count": 1,
     "metadata": {},
     "output_type": "execute_result"
    }
   ],
   "source": [
    "2+2"
   ]
  },
  {
   "cell_type": "code",
   "execution_count": 3,
   "id": "216f5455-29f9-437b-b52a-e8d4b561a375",
   "metadata": {},
   "outputs": [
    {
     "data": {
      "text/plain": [
       "6.666666666666667"
      ]
     },
     "execution_count": 3,
     "metadata": {},
     "output_type": "execute_result"
    }
   ],
   "source": [
    "5-2\n",
    "2*2\n",
    "20/3\n"
   ]
  },
  {
   "cell_type": "code",
   "execution_count": 4,
   "id": "cb96c007-7f02-4079-8474-5596e3445ab5",
   "metadata": {},
   "outputs": [
    {
     "data": {
      "text/plain": [
       "3"
      ]
     },
     "execution_count": 4,
     "metadata": {},
     "output_type": "execute_result"
    }
   ],
   "source": [
    "5-2"
   ]
  },
  {
   "cell_type": "code",
   "execution_count": 5,
   "id": "4c69e9e4-9f84-431c-9e26-87ad7f53f45e",
   "metadata": {},
   "outputs": [
    {
     "data": {
      "text/plain": [
       "-2"
      ]
     },
     "execution_count": 5,
     "metadata": {},
     "output_type": "execute_result"
    }
   ],
   "source": [
    "3-5"
   ]
  },
  {
   "cell_type": "markdown",
   "id": "0bee4948-3f9d-4f03-9a1a-99050ce5a35a",
   "metadata": {},
   "source": [
    "For only integer part"
   ]
  },
  {
   "cell_type": "code",
   "execution_count": 6,
   "id": "15ef2902-0db2-4e9c-8658-b910649903c4",
   "metadata": {},
   "outputs": [
    {
     "data": {
      "text/plain": [
       "6"
      ]
     },
     "execution_count": 6,
     "metadata": {},
     "output_type": "execute_result"
    }
   ],
   "source": [
    "20//3"
   ]
  },
  {
   "cell_type": "markdown",
   "id": "e3841384-0b10-494b-aa97-4f1d1c282553",
   "metadata": {},
   "source": [
    "Power operator"
   ]
  },
  {
   "cell_type": "code",
   "execution_count": 8,
   "id": "1b46e9e6-f243-460f-9989-fca5f9dbe30e",
   "metadata": {},
   "outputs": [
    {
     "data": {
      "text/plain": [
       "4"
      ]
     },
     "execution_count": 8,
     "metadata": {},
     "output_type": "execute_result"
    }
   ],
   "source": [
    "2**2"
   ]
  },
  {
   "cell_type": "markdown",
   "id": "b1b6f124-c9f6-4fbb-baa6-270a3a074c54",
   "metadata": {},
   "source": [
    "Modulo operator"
   ]
  },
  {
   "cell_type": "code",
   "execution_count": 10,
   "id": "f4a7e453-f177-4a0f-a9b3-d0fe74f5e84e",
   "metadata": {},
   "outputs": [
    {
     "data": {
      "text/plain": [
       "1"
      ]
     },
     "execution_count": 10,
     "metadata": {},
     "output_type": "execute_result"
    }
   ],
   "source": [
    "5%2"
   ]
  },
  {
   "cell_type": "code",
   "execution_count": 11,
   "id": "c44f7767-a0b3-4f36-891a-b9a9628b6305",
   "metadata": {},
   "outputs": [
    {
     "data": {
      "text/plain": [
       "3"
      ]
     },
     "execution_count": 11,
     "metadata": {},
     "output_type": "execute_result"
    }
   ],
   "source": [
    "43%5"
   ]
  },
  {
   "cell_type": "markdown",
   "id": "66918e1c-9da9-4002-8071-bccf95a01d8d",
   "metadata": {},
   "source": [
    "Arithmatic expresion"
   ]
  },
  {
   "cell_type": "code",
   "execution_count": 12,
   "id": "abfbec29-739a-4b20-9e57-34361d987ac2",
   "metadata": {},
   "outputs": [
    {
     "data": {
      "text/plain": [
       "15"
      ]
     },
     "execution_count": 12,
     "metadata": {},
     "output_type": "execute_result"
    }
   ],
   "source": [
    "2+3*5-2"
   ]
  },
  {
   "cell_type": "code",
   "execution_count": 13,
   "id": "0ef46739-8176-43c2-9529-17c9a7c4b156",
   "metadata": {},
   "outputs": [
    {
     "data": {
      "text/plain": [
       "5.551115123125783e-17"
      ]
     },
     "execution_count": 13,
     "metadata": {},
     "output_type": "execute_result"
    }
   ],
   "source": [
    "0.1+0.2-0.3"
   ]
  },
  {
   "cell_type": "code",
   "execution_count": 14,
   "id": "83242476-6c55-47f6-b9e2-5bdbb29a3a98",
   "metadata": {},
   "outputs": [
    {
     "name": "stdout",
     "output_type": "stream",
     "text": [
      "100\n"
     ]
    }
   ],
   "source": [
    "print(100)"
   ]
  },
  {
   "cell_type": "code",
   "execution_count": null,
   "id": "2970b128-b317-4ef1-b907-df7fc56ed78d",
   "metadata": {},
   "outputs": [],
   "source": []
  }
 ],
 "metadata": {
  "kernelspec": {
   "display_name": "Python 3 (ipykernel)",
   "language": "python",
   "name": "python3"
  },
  "language_info": {
   "codemirror_mode": {
    "name": "ipython",
    "version": 3
   },
   "file_extension": ".py",
   "mimetype": "text/x-python",
   "name": "python",
   "nbconvert_exporter": "python",
   "pygments_lexer": "ipython3",
   "version": "3.11.7"
  }
 },
 "nbformat": 4,
 "nbformat_minor": 5
}
